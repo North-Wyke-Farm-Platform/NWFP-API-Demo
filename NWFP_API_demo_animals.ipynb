{
 "cells": [
  {
   "cell_type": "markdown",
   "id": "c269d445-1fd8-438d-8e9f-07694a27906d",
   "metadata": {},
   "source": [
    "# Install the charting library & tables"
   ]
  },
  {
   "cell_type": "code",
   "execution_count": null,
   "id": "ebf350c6-b61d-4805-85b8-0682abbdcd2f",
   "metadata": {},
   "outputs": [],
   "source": [
    "!pip install plotly\n",
    "!pip install tabulate"
   ]
  },
  {
   "cell_type": "markdown",
   "id": "4c26a0f6-188d-4715-8f6b-db4e30388457",
   "metadata": {},
   "source": [
    "## Login "
   ]
  },
  {
   "cell_type": "code",
   "execution_count": null,
   "id": "bee831a0-0ad9-4fd0-86f5-81078cb5778a",
   "metadata": {},
   "outputs": [],
   "source": [
    "import requests\n",
    "import os\n",
    "import pprint\n",
    "from dotenv import load_dotenv\n",
    "\n",
    "# Define the API endpoint and payload\n",
    "base_url = \"https://api-nwfp.rothamsted.ac.uk/api\"\n",
    "endpoint = \"auth/v1/login/\"\n",
    "url = f\"{base_url}/{endpoint}\"\n",
    "\n",
    "load_dotenv()\n",
    "\n",
    "payload = {\n",
    "    \"email\": os.getenv(\"API_EMAIL\"),\n",
    "    \"password\": os.getenv(\"API_PASSWORD\")\n",
    "}\n",
    "# Make the POST request\n",
    "response = requests.post(url, data=payload)\n",
    "\n",
    "# Check the response\n",
    "if response.status_code == 200:\n",
    "    response_data = response.json()\n",
    "    print(\"Login successful!\")\n",
    "    token = response_data.get(\"access\")\n",
    "    headers = {\n",
    "        \"Authorization\":f\"Bearer {token}\",\n",
    "        \"Cache-Control\": \"no-cache\"\n",
    "    }\n",
    "    key = token\n",
    "    print(key)\n",
    "else:\n",
    "    print(\"Failed to login. Status code:\", response.status_code)\n",
    "    print(\"Response:\", response.text)"
   ]
  },
  {
   "cell_type": "markdown",
   "id": "5e7ce5c6-c48c-4397-9577-7299c90e86a1",
   "metadata": {},
   "source": [
    "## Getting help about animals\n",
    "\n",
    "The NWFP APIs can provide help information, for example if you want to know the available animalCategoryName values we can query using the *Help* parameter. This will tell us what the avalable animalCategoryName values are."
   ]
  },
  {
   "cell_type": "code",
   "execution_count": null,
   "id": "bee3a5a2-8c95-4120-8fab-2b85cc4e1bda",
   "metadata": {},
   "outputs": [],
   "source": [
    "import requests\n",
    "import pandas as pd\n",
    "from tabulate import tabulate\n",
    "\n",
    "# Define the API endpoint and parameters\n",
    "endpoint = \"animals/v1/getBasicAnimalData/\"\n",
    "api_url = f\"{base_url}/{endpoint}\"\n",
    "params = {\n",
    "    \"animalCategoryName\":\"help\"\n",
    "}\n",
    "\n",
    "response = requests.get(api_url, headers=headers, params=params)\n",
    "\n",
    "if response.status_code == 200:    \n",
    "    data = response.json()\n",
    "    df = pd.DataFrame(data)\n",
    "    # Reformat the output in a nice table\n",
    "    print(tabulate(df, headers='keys', tablefmt='grid'))\n",
    "else:\n",
    "    print(\"Failed. Status code:\", response.status_code)\n",
    "    print(\"Response:\", response.text)"
   ]
  },
  {
   "cell_type": "markdown",
   "id": "886ef8a4-58bb-4df7-b76e-f5c6664d15d7",
   "metadata": {},
   "source": [
    "Now we know one of the animal categories is *Lamb*, we can query demographic data for Lambs using the *animals/v1/getBasicAnimalData/* end point. This example simply prints the returned JSON "
   ]
  },
  {
   "cell_type": "code",
   "execution_count": null,
   "id": "35942368-eb8b-4765-9715-bba239163745",
   "metadata": {},
   "outputs": [],
   "source": [
    "params = {\n",
    "    \"animalCategoryName\":\"Lamb\",\n",
    "    \"startGrazingYear\":2012,\n",
    "    \"endGrazingYear\":2012,\n",
    "    \"farmlet\":\"Red\"\n",
    "}\n",
    "\n",
    "response = requests.get(api_url, headers=headers, params=params)\n",
    "\n",
    "if response.status_code == 200:    \n",
    "    data = response.json()\n",
    "    pprint.pp(data)\n",
    "else:\n",
    "    print(\"Failed. Status code:\", response.status_code)\n",
    "    print(\"Response:\", response.text)"
   ]
  },
  {
   "cell_type": "markdown",
   "id": "2213a2b5-9116-4ca4-ae33-c47132070dcf",
   "metadata": {},
   "source": [
    "There is a lot of data! We can use tabulate to present a table of selected columns"
   ]
  },
  {
   "cell_type": "code",
   "execution_count": null,
   "id": "17fc6581-116b-4540-ba52-7b4a164295a4",
   "metadata": {},
   "outputs": [],
   "source": [
    "df_results = pd.DataFrame(data.get('results', []))\n",
    "\n",
    "columns = [\"animalid\", \"officialtag\", \"managementtag\", \"breed\", \"gender\", \"dateofbirth\"]\n",
    "\n",
    "df_animals = df_results[columns]\n",
    "\n",
    "print(tabulate(df_animals, headers='keys', tablefmt='grid', showindex=False))"
   ]
  },
  {
   "cell_type": "markdown",
   "id": "ff6c936a-b7e8-45f6-8d27-597de902e3fc",
   "metadata": {},
   "source": [
    "## Querying livestock performance data\n",
    "Animal data is found across several different endpoints, however, animal data uses a common ID, *animalid* and we can use that to join results from different queries. For example we can query the livestock performance data and join this to the data we've already queried. We can then generate summary statistics, for example in this case live weight grouped by breed"
   ]
  },
  {
   "cell_type": "code",
   "execution_count": null,
   "id": "960dffd7-61b4-456f-8c87-c8e4a0243cdd",
   "metadata": {},
   "outputs": [],
   "source": [
    "endpoint = \"animals/v1/getLivestockPerformanceSales/\"\n",
    "api_url = f\"{base_url}/{endpoint}\"\n",
    "\n",
    "# extract the animalIDs from the previous query\n",
    "animalIds = \",\".join(map(str, df_animals[\"animalid\"]))\n",
    "\n",
    "params = {\n",
    "    \"animalId\": animalIds,\n",
    "    \"yearSold\": 2012\n",
    "}\n",
    "\n",
    "response = requests.get(api_url, headers=headers, params=params)\n",
    "\n",
    "if response.status_code == 200:    \n",
    "    data = response.json()\n",
    "    df_sales = pd.DataFrame(data)\n",
    "    \n",
    "    df_sales = df_sales.rename(columns={\"AnimalId\": \"animalid\"}) # because property names are not all consistent\n",
    "    \n",
    "    df_liveweights = df_sales[[\"animalid\",\"FinalLiveWeight\"]]\n",
    "\n",
    "    # we need to clean the data before analysis\n",
    "    pattern = r\"^\\d+(?:\\.\\d+)?\\s*[Kk][Gg]$\"\n",
    "    \n",
    "    # Filter rows that match the pattern\n",
    "    fdf_liveweights = df_liveweights[df_liveweights[\"FinalLiveWeight\"].str.contains(pattern, na=False, regex=True)]\n",
    "\n",
    "    fdf_liveweights = fdf_liveweights.copy()\n",
    "    \n",
    "    # Remove the 'kg' unit and convert to numeric\n",
    "    fdf_liveweights[\"FinalLiveWeight\"] = (\n",
    "        fdf_liveweights[\"FinalLiveWeight\"]\n",
    "        .str.replace(r\"\\s*[Kk][Gg]$\", \"\", regex=True)\n",
    "        .astype(float)\n",
    "    )\n",
    "    \n",
    "    #Merge the two data frames. Use a left join on sales so that we only report animals sold \n",
    "    df_merged = pd.merge(fdf_liveweights, df_animals, how=\"left\", on=\"animalid\")\n",
    "    print(df_merged.columns)\n",
    "\n",
    "    # create summary statistics grouping on the breed\n",
    "    summary_stats = df_merged.groupby(\"breed\")[[\"FinalLiveWeight\"]].agg([\"mean\", \"min\", \"max\", \"std\"])\n",
    "        \n",
    "    print(summary_stats)\n",
    "else:\n",
    "    print(\"Failed. Status code:\", response.status_code)\n",
    "    print(\"Response:\", response.text)\n",
    "\n"
   ]
  }
 ],
 "metadata": {
  "kernelspec": {
   "display_name": "Python 3 (ipykernel)",
   "language": "python",
   "name": "python3"
  },
  "language_info": {
   "codemirror_mode": {
    "name": "ipython",
    "version": 3
   },
   "file_extension": ".py",
   "mimetype": "text/x-python",
   "name": "python",
   "nbconvert_exporter": "python",
   "pygments_lexer": "ipython3",
   "version": "3.11.2"
  }
 },
 "nbformat": 4,
 "nbformat_minor": 5
}
