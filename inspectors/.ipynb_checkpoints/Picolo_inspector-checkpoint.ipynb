{
 "cells": [
  {
   "cell_type": "code",
   "execution_count": null,
   "id": "4af0b0a8-066d-4409-bad4-21863704f5a4",
   "metadata": {},
   "outputs": [],
   "source": [
    "from dotenv import load_dotenv\n",
    "import requests\n",
    "import pprint\n",
    "import os\n",
    "import json\n",
    "\n",
    "load_dotenv()\n",
    "\n",
    "payload = {\n",
    "    \"email\": os.getenv(\"API_EMAIL\"),\n",
    "    \"password\": os.getenv(\"API_PASSWORD\")\n",
    "}\n",
    "\n",
    "response = requests.post(\"http://picolo.rothamsted.ac.uk/api/auth/v1/login/\", json=payload)\n",
    "\n",
    "token = \"\"\n",
    "headers = None\n",
    "\n",
    "if response.status_code == 200:\n",
    "    response_data = response.json()\n",
    "    print(\"Login successful!\")\n",
    "    print(\"Response data:\")\n",
    "    pprint.pp(response_data)\n",
    "    token = response_data.get(\"access\")\n",
    "    headers = {\"Authorization\": f\"Bearer {token}\"}\n",
    "else:\n",
    "    print(\"Login failed!\")\n",
    "    print(\"Status code:\", response.status_code)\n",
    "    print(\"Response:\", response.text)"
   ]
  },
  {
   "cell_type": "code",
   "execution_count": null,
   "id": "5efe19a4-8380-4efc-bafc-49cd24b7722a",
   "metadata": {},
   "outputs": [],
   "source": [
    "def count_all_properties(json_data):\n",
    "    count = 0\n",
    "\n",
    "    if isinstance(json_data, dict):\n",
    "        # For each key in the dictionary, increment the count\n",
    "        count += len(json_data)\n",
    "        # Recursively count properties in each value\n",
    "        for value in json_data.values():\n",
    "            count += count_all_properties(value)\n",
    "    \n",
    "    elif isinstance(json_data, list):\n",
    "        # Recursively count properties in each item of the list\n",
    "        for item in json_data:\n",
    "            count += count_all_properties(item)\n",
    "\n",
    "    return count"
   ]
  },
  {
   "cell_type": "code",
   "execution_count": 37,
   "id": "d787a14c-01f9-4b28-87c2-ed075a7a210a",
   "metadata": {},
   "outputs": [],
   "source": [
    "def display_result(protected_response,withJson):\n",
    "    try:\n",
    "        json_data = protected_response.json()\n",
    "\n",
    "        if protected_response.status_code == 200:\n",
    "            print(\"Accessed protected endpoint successfully!\")\n",
    "            print(count_all_properties(json_data))\n",
    "            if withJson:\n",
    "                pprint.pp(json_data)\n",
    "        else:\n",
    "            pprint.pp(json_data)\n",
    "            print(\"Failed to access protected endpoint.\")\n",
    "            print(\"Status code: \", protected_response.status_code)\n",
    "            print(\"Error message: \",json_data[\"error\"]) \n",
    "    except json.JSONDecodeError as e:\n",
    "        print(\"error\")\n",
    "        print(f\"Error: Malformed JSON data. Details: {e.msg} at line {e.lineno} column {e.colno}\")\n",
    "        print(\"Response content:\", protected_response.text)  # Show the actual response for inspection\n",
    "        return 0"
   ]
  },
  {
   "cell_type": "code",
   "execution_count": null,
   "id": "33e02040-8db2-4b0c-a9d4-95b8211bc790",
   "metadata": {},
   "outputs": [],
   "source": [
    "api_url = \"http://picolo.rothamsted.ac.uk/\""
   ]
  },
  {
   "cell_type": "code",
   "execution_count": null,
   "id": "df89ef6d-6313-442a-b7a3-657217b0c7a0",
   "metadata": {},
   "outputs": [],
   "source": [
    "protected_url = api_url + \"api/animals/v1/AnimalCount/?dateFrom=2011-01-01&dateTo=2020-12-31\"\n",
    "protected_response = requests.get(protected_url, headers=headers)\n",
    "display_result(protected_response,False)"
   ]
  },
  {
   "cell_type": "code",
   "execution_count": null,
   "id": "ba280f83-079d-4dfb-b5ff-cfa6f5567179",
   "metadata": {},
   "outputs": [],
   "source": [
    "protected_url = api_url + \"api/animals/v1/BasicAnimalData/\"\n",
    "protected_response = requests.get(protected_url, headers=headers)\n",
    "display_result(protected_response,False)"
   ]
  },
  {
   "cell_type": "code",
   "execution_count": null,
   "id": "5cd23c94-9c4b-49c6-a43a-e4c96cfdde45",
   "metadata": {},
   "outputs": [],
   "source": [
    "protected_url = api_url + \"api/animals/v1/BasicAnimalData/\"\n",
    "params = {\n",
    "    \"startGrazingYear\":2010,\n",
    "    \"endGrazingYear\":2020\n",
    "}\n",
    "protected_response = requests.get(protected_url, headers=headers)\n",
    "display_result(protected_response,False)"
   ]
  },
  {
   "cell_type": "code",
   "execution_count": null,
   "id": "e23e22b4-dbc6-4b7f-9a5e-844f225b19db",
   "metadata": {},
   "outputs": [],
   "source": [
    "protected_url = api_url + \"api/animals/v1/BasicAnimalData/\"\n",
    "params = {\n",
    "    \"startGrazingYear\":2010,\n",
    "    \"endGrazingYear\":2020,\n",
    "    \"animalCategoryName\":\"Red\"\n",
    "}\n",
    "protected_response = requests.get(protected_url, headers=headers, params=params)\n",
    "display_result(protected_response,False)"
   ]
  },
  {
   "cell_type": "code",
   "execution_count": 52,
   "id": "15be93db-662b-4a0b-8c21-5ba429d3b723",
   "metadata": {},
   "outputs": [
    {
     "name": "stdout",
     "output_type": "stream",
     "text": [
      "Accessed protected endpoint successfully!\n",
      "22\n",
      "{'category': 'Dog',\n",
      " 'farmlet': 'Varies',\n",
      " 'grazing years': ['2010', '2024'],\n",
      " 'results': [{'id': 10702,\n",
      "              'officialtag': 'UK 0 362735 06398',\n",
      "              'managementtag': '6398',\n",
      "              'breed': 'CHA',\n",
      "              'dateofbirth': '2019-03-19T00:00:00Z',\n",
      "              'grazingyear': 2019,\n",
      "              'endgrazingyear': 2019,\n",
      "              'gender': 'F',\n",
      "              'farmletid': 3,\n",
      "              'sireid': None,\n",
      "              'birthdamid': 8125,\n",
      "              'rearingdamid': 8125,\n",
      "              'birthlittersize': 2,\n",
      "              'rearinglittersize': 2,\n",
      "              'animalcategoryid': 1,\n",
      "              'breedinganimal': False,\n",
      "              'animalId': 10679,\n",
      "              'farmletName': 'Blue'}]}\n"
     ]
    }
   ],
   "source": [
    "protected_url = api_url + \"api/animals/v1/BasicAnimalData/\"\n",
    "params = {\n",
    "    \"startGrazingYear\":2010,\n",
    "    \"endGrazingYear\":2024,\n",
    "    \"animalCategoryName\":\"Dog\",\n",
    "    \"animalId\":10679\n",
    "}\n",
    "protected_response = requests.get(protected_url, headers=headers, params=params)\n",
    "display_result(protected_response,True)"
   ]
  },
  {
   "cell_type": "code",
   "execution_count": 39,
   "id": "47d3d08f-b74a-4c70-a05f-4115461813cd",
   "metadata": {},
   "outputs": [
    {
     "name": "stdout",
     "output_type": "stream",
     "text": [
      "{'error': 'Missing required parameters',\n",
      " 'missing_params': ['dateFrom', 'dateTo']}\n",
      "Failed to access protected endpoint.\n",
      "Status code:  400\n",
      "Error message:  Missing required parameters\n"
     ]
    }
   ],
   "source": [
    "protected_url = api_url + \"api/animals/v1/GrazingQuality/\"\n",
    "protected_response = requests.get(protected_url, headers=headers)\n",
    "display_result(protected_response,False)"
   ]
  },
  {
   "cell_type": "code",
   "execution_count": 45,
   "id": "23bb2676-8653-4bfa-9bbf-b0ffb85a26b4",
   "metadata": {},
   "outputs": [
    {
     "name": "stdout",
     "output_type": "stream",
     "text": [
      "{'error': 'Missing required parameters', 'missing_params': ['dateTo']}\n",
      "Failed to access protected endpoint.\n",
      "Status code:  400\n",
      "Error message:  Missing required parameters\n"
     ]
    }
   ],
   "source": [
    "protected_url = api_url + \"api/animals/v1/GrazingQuality/\"\n",
    "params = {\n",
    "    \"dateFrom\":\"2011-40-12\"\n",
    "}\n",
    "protected_response = requests.get(protected_url, headers=headers, params=params)\n",
    "display_result(protected_response,False)"
   ]
  },
  {
   "cell_type": "code",
   "execution_count": 42,
   "id": "f4e4b96b-39a1-4657-a435-af5787130805",
   "metadata": {},
   "outputs": [
    {
     "name": "stdout",
     "output_type": "stream",
     "text": [
      "{'error': 'Missing required parameters',\n",
      " 'missing_params': ['dateFrom', 'dateTo']}\n",
      "Failed to access protected endpoint.\n",
      "Status code:  400\n",
      "Error message:  Missing required parameters\n"
     ]
    }
   ],
   "source": [
    "protected_url = api_url + \"api/animals/v1/GreenFeed\"\n",
    "protected_response = requests.get(protected_url, headers=headers)\n",
    "display_result(protected_response,False)"
   ]
  },
  {
   "cell_type": "code",
   "execution_count": null,
   "id": "5c36ba48-9e95-492b-adc5-f1f2ceb2d3ce",
   "metadata": {},
   "outputs": [],
   "source": [
    "protected_url = api_url + \"api/animals/v1/GreenFeed?start_date=2011-6-12&end_date=2024-10-12\"\n",
    "protected_response = requests.get(protected_url, headers=headers)\n",
    "display_result(protected_response,False)"
   ]
  },
  {
   "cell_type": "code",
   "execution_count": null,
   "id": "905232c6-278a-461a-9759-71e88ce34be9",
   "metadata": {},
   "outputs": [],
   "source": [
    "protected_url = api_url + \"api/animals/v1/LivestockPerformance\"\n",
    "protected_response = requests.get(protected_url, headers=headers)\n",
    "display_result(protected_response,True)"
   ]
  },
  {
   "cell_type": "code",
   "execution_count": 58,
   "id": "3c962271-7b95-4a2d-b40a-15d35b934f15",
   "metadata": {},
   "outputs": [
    {
     "name": "stdout",
     "output_type": "stream",
     "text": [
      "error\n",
      "Error: Malformed JSON data. Details: Expecting value at line 1 column 1\n",
      "Response content: <!DOCTYPE html>\n",
      "<html lang=\"en\">\n",
      "<head>\n",
      "  <meta http-equiv=\"content-type\" content=\"text/html; charset=utf-8\">\n",
      "  <title>Page not found at /api/animals/v1/LivestockPerformance/animalId=5820</title>\n",
      "  <meta name=\"robots\" content=\"NONE,NOARCHIVE\">\n",
      "  <style type=\"text/css\">\n",
      "    html * { padding:0; margin:0; }\n",
      "    body * { padding:10px 20px; }\n",
      "    body * * { padding:0; }\n",
      "    body { font:small sans-serif; background:#eee; color:#000; }\n",
      "    body>div { border-bottom:1px solid #ddd; }\n",
      "    h1 { font-weight:normal; margin-bottom:.4em; }\n",
      "    h1 span { font-size:60%; color:#666; font-weight:normal; }\n",
      "    table { border:none; border-collapse: collapse; width:100%; }\n",
      "    td, th { vertical-align:top; padding:2px 3px; }\n",
      "    th { width:12em; text-align:right; color:#666; padding-right:.5em; }\n",
      "    #info { background:#f6f6f6; }\n",
      "    #info ol { margin: 0.5em 4em; }\n",
      "    #info ol li { font-family: monospace; }\n",
      "    #summary { background: #ffc; }\n",
      "    #explanation { background:#eee; border-bottom: 0px none; }\n",
      "    pre.exception_value { font-family: sans-serif; color: #575757; font-size: 1.5em; margin: 10px 0 10px 0; }\n",
      "  </style>\n",
      "</head>\n",
      "<body>\n",
      "  <div id=\"summary\">\n",
      "    <h1>Page not found <span>(404)</span></h1>\n",
      "    \n",
      "    <table class=\"meta\">\n",
      "      <tr>\n",
      "        <th>Request Method:</th>\n",
      "        <td>GET</td>\n",
      "      </tr>\n",
      "      <tr>\n",
      "        <th>Request URL:</th>\n",
      "        <td>http://picolo.rothamsted.ac.uk/api/animals/v1/LivestockPerformance/animalId%3D5820</td>\n",
      "      </tr>\n",
      "      \n",
      "    </table>\n",
      "  </div>\n",
      "  <div id=\"info\">\n",
      "    \n",
      "      <p>\n",
      "      Using the URLconf defined in <code>FP_API.urls</code>,\n",
      "      Django tried these URL patterns, in this order:\n",
      "      </p>\n",
      "      <ol>\n",
      "        \n",
      "          <li>\n",
      "            \n",
      "                admin/\n",
      "                \n",
      "            \n",
      "          </li>\n",
      "        \n",
      "          <li>\n",
      "            \n",
      "                api/token/\n",
      "                [name='token_obtain_pair']\n",
      "            \n",
      "          </li>\n",
      "        \n",
      "          <li>\n",
      "            \n",
      "                api/token/refresh/\n",
      "                [name='token_refresh']\n",
      "            \n",
      "          </li>\n",
      "        \n",
      "          <li>\n",
      "            \n",
      "                \n",
      "                [name='schema-swagger-ui']\n",
      "            \n",
      "          </li>\n",
      "        \n",
      "          <li>\n",
      "            \n",
      "                redoc/\n",
      "                [name='schema-redoc']\n",
      "            \n",
      "          </li>\n",
      "        \n",
      "          <li>\n",
      "            \n",
      "                api/animals/\n",
      "                \n",
      "            \n",
      "                v1/AnimalCount/\n",
      "                [name='get-animal-count']\n",
      "            \n",
      "          </li>\n",
      "        \n",
      "          <li>\n",
      "            \n",
      "                api/animals/\n",
      "                \n",
      "            \n",
      "                v1/BasicAnimalData/\n",
      "                [name='get-animal-data']\n",
      "            \n",
      "          </li>\n",
      "        \n",
      "          <li>\n",
      "            \n",
      "                api/animals/\n",
      "                \n",
      "            \n",
      "                v1/GrazingQuality/\n",
      "                [name='get-grazing-quality']\n",
      "            \n",
      "          </li>\n",
      "        \n",
      "          <li>\n",
      "            \n",
      "                api/animals/\n",
      "                \n",
      "            \n",
      "                v1/GreenFeed/\n",
      "                [name='get-green-feed']\n",
      "            \n",
      "          </li>\n",
      "        \n",
      "          <li>\n",
      "            \n",
      "                api/animals/\n",
      "                \n",
      "            \n",
      "                v1/AnimalInputs/\n",
      "                [name='AnimalInputs']\n",
      "            \n",
      "          </li>\n",
      "        \n",
      "          <li>\n",
      "            \n",
      "                api/animals/\n",
      "                \n",
      "            \n",
      "                v1/LivestockPerformance/\n",
      "                [name='get-livestock-performance']\n",
      "            \n",
      "          </li>\n",
      "        \n",
      "          <li>\n",
      "            \n",
      "                api/animals/\n",
      "                \n",
      "            \n",
      "                v1/SurveyMeasurements\n",
      "                [name='get-survey-measurements']\n",
      "            \n",
      "          </li>\n",
      "        \n",
      "          <li>\n",
      "            \n",
      "                api/animals/\n",
      "                \n",
      "            \n",
      "                v1/LivestockPerformanceSales/\n",
      "                [name='get-livestock-performance-sales']\n",
      "            \n",
      "          </li>\n",
      "        \n",
      "          <li>\n",
      "            \n",
      "                api/measurements/\n",
      "                \n",
      "            \n",
      "          </li>\n",
      "        \n",
      "          <li>\n",
      "            \n",
      "                api/events/\n",
      "                \n",
      "            \n",
      "          </li>\n",
      "        \n",
      "          <li>\n",
      "            \n",
      "                api/fields/\n",
      "                \n",
      "            \n",
      "          </li>\n",
      "        \n",
      "          <li>\n",
      "            \n",
      "                api/catchments/\n",
      "                \n",
      "            \n",
      "          </li>\n",
      "        \n",
      "          <li>\n",
      "            \n",
      "                api/auth/\n",
      "                \n",
      "            \n",
      "          </li>\n",
      "        \n",
      "          <li>\n",
      "            \n",
      "                api/utils/\n",
      "                \n",
      "            \n",
      "          </li>\n",
      "        \n",
      "          <li>\n",
      "            \n",
      "                ^static/(?P&lt;path&gt;.*)$\n",
      "                \n",
      "            \n",
      "          </li>\n",
      "        \n",
      "          <li>\n",
      "            \n",
      "                ^media/(?P&lt;path&gt;.*)$\n",
      "                \n",
      "            \n",
      "          </li>\n",
      "        \n",
      "      </ol>\n",
      "      <p>\n",
      "        \n",
      "          The current path, <code>api/animals/v1/LivestockPerformance/animalId=5820</code>,\n",
      "        \n",
      "        didn’t match any of these.\n",
      "      </p>\n",
      "    \n",
      "  </div>\n",
      "\n",
      "  <div id=\"explanation\">\n",
      "    <p>\n",
      "      You’re seeing this error because you have <code>DEBUG = True</code> in\n",
      "      your Django settings file. Change that to <code>False</code>, and Django\n",
      "      will display a standard 404 page.\n",
      "    </p>\n",
      "  </div>\n",
      "</body>\n",
      "</html>\n",
      "\n"
     ]
    },
    {
     "data": {
      "text/plain": [
       "0"
      ]
     },
     "execution_count": 58,
     "metadata": {},
     "output_type": "execute_result"
    }
   ],
   "source": [
    "protected_url = api_url + \"api/animals/v1/LivestockPerformance/\"\n",
    "params = {\n",
    "    \"animalId\": 5820\n",
    "}\n",
    "protected_response = requests.get(protected_url, headers=headers, params=params)\n",
    "display_result(protected_response,True)"
   ]
  },
  {
   "cell_type": "code",
   "execution_count": null,
   "id": "41362abe-08bd-4834-b06c-8ddb7cdda998",
   "metadata": {},
   "outputs": [],
   "source": [
    "protected_url = api_url + \"api/animals/v1/LivestockPerformanceSales?animalId=help\"\n",
    "protected_response = requests.get(protected_url, headers=headers)\n",
    "display_result(protected_response,True)"
   ]
  },
  {
   "cell_type": "code",
   "execution_count": null,
   "id": "5bcad602-df50-4cbe-82fd-687aa25ae6cf",
   "metadata": {},
   "outputs": [],
   "source": [
    "protected_url = api_url + \"api/animals/v1/LivestockPerformanceSales/?dateSold=2018\"\n",
    "protected_response = requests.get(protected_url, headers=headers)\n",
    "display_result(protected_response,True)"
   ]
  },
  {
   "cell_type": "code",
   "execution_count": null,
   "id": "318799cf-c868-4db7-8127-db9a367ba44d",
   "metadata": {},
   "outputs": [],
   "source": [
    "protected_url = api_url + \"api/animals/v1/getSurveyMeasurements/\"\n",
    "protected_response = requests.get(protected_url, headers=headers)\n",
    "display_result(protected_response,False)"
   ]
  },
  {
   "cell_type": "code",
   "execution_count": null,
   "id": "c128be27-2ca2-4567-8c4b-8e5c3d4eb6d2",
   "metadata": {},
   "outputs": [],
   "source": [
    "protected_url = api_url + \"api/animals/v1/getSurveyMeasurements/?from_date=2018-6-12&to_date=2018-10-12\"\n",
    "protected_response = requests.get(protected_url, headers=headers)\n",
    "display_result(protected_response,True)"
   ]
  },
  {
   "cell_type": "code",
   "execution_count": null,
   "id": "2e65126a-d549-4a4e-aaaf-466073e15fa4",
   "metadata": {},
   "outputs": [],
   "source": [
    "protected_url = api_url + \"api/catchments/v1/getCatchments/\"\n",
    "protected_response = requests.get(protected_url, headers=headers)\n",
    "display_result(protected_response,False)"
   ]
  },
  {
   "cell_type": "code",
   "execution_count": null,
   "id": "6c770f72-46bb-4c57-9f26-eb58ce8f5d90",
   "metadata": {},
   "outputs": [],
   "source": [
    "protected_url = api_url + \"api/catchments/v1/getMeasurementTypes/\"\n",
    "protected_response = requests.get(protected_url, headers=headers)\n",
    "display_result(protected_response,False)"
   ]
  },
  {
   "cell_type": "code",
   "execution_count": null,
   "id": "4b765fd0-7277-4d6f-abda-966f4cc90b6e",
   "metadata": {},
   "outputs": [],
   "source": [
    "protected_url = api_url + \"api/events/v2/getFieldEvents/\"\n",
    "protected_response = requests.get(protected_url, headers=headers)\n",
    "display_result(protected_response,False)"
   ]
  },
  {
   "cell_type": "code",
   "execution_count": null,
   "id": "194ed811-d996-400c-8c74-0e5566c2ffcf",
   "metadata": {},
   "outputs": [],
   "source": [
    "protected_url = api_url + \"api/events/v2/getFieldEvents/?catchments=Catchment 1, Catchment 3\"\n",
    "protected_response = requests.get(protected_url, headers=headers)\n",
    "display_result(protected_response,False)"
   ]
  },
  {
   "cell_type": "code",
   "execution_count": null,
   "id": "66b9096a-e070-453e-8f50-bb4afea7157f",
   "metadata": {},
   "outputs": [],
   "source": [
    "protected_url = api_url + \"api/events/v2/getFieldEvents/?catchmentsIds=1,3\"\n",
    "protected_response = requests.get(protected_url, headers=headers)\n",
    "display_result(protected_response,False)"
   ]
  },
  {
   "cell_type": "code",
   "execution_count": null,
   "id": "a817b20c-fc46-44f4-8168-fff660bb46d0",
   "metadata": {},
   "outputs": [],
   "source": [
    "protected_url = api_url + \"api/events/v2/getFieldEvents/?catchmentsIds=1,3&dateFrom=2018-03-01\"\n",
    "protected_response = requests.get(protected_url, headers=headers)\n",
    "display_result(protected_response,False)"
   ]
  },
  {
   "cell_type": "code",
   "execution_count": null,
   "id": "7687b000-567a-4304-8247-82780328e74e",
   "metadata": {},
   "outputs": [],
   "source": [
    "protected_url = api_url + \"api/measurements/v2/getMeasurementsByTypeID/\"\n",
    "protected_response = requests.get(protected_url, headers=headers)\n",
    "display_result(protected_response,True)"
   ]
  },
  {
   "cell_type": "code",
   "execution_count": null,
   "id": "7d2307dd-4ea0-4e6c-b40a-0ee1fc05877e",
   "metadata": {},
   "outputs": [],
   "source": [
    "protected_url = api_url + \"api/measurements/v2/getMeasurementsByTypeID/?from_date=2018-06-01\"\n",
    "protected_response = requests.get(protected_url, headers=headers)\n",
    "display_result(protected_response,True)"
   ]
  },
  {
   "cell_type": "code",
   "execution_count": null,
   "id": "e4fb508d-b02f-4c7c-9ca2-cf6368a9c6aa",
   "metadata": {},
   "outputs": [],
   "source": [
    "protected_url = api_url + \"api/measurements/v2/getMeasurementsByTypeID/\"\n",
    "protected_response = requests.get(protected_url, headers=headers)\n",
    "display_result(protected_response,True)"
   ]
  },
  {
   "cell_type": "code",
   "execution_count": null,
   "id": "1880e2e0-68b2-4a36-aa8e-851a8751ad24",
   "metadata": {},
   "outputs": [],
   "source": [
    "protected_url = api_url + \"api/fields/v1/getFields/\"\n",
    "protected_response = requests.get(protected_url, headers=headers)\n",
    "display_result(protected_response,False)"
   ]
  },
  {
   "cell_type": "code",
   "execution_count": null,
   "id": "c6ce86b5-c51e-45d5-9135-7da7cda46884",
   "metadata": {},
   "outputs": [],
   "source": []
  }
 ],
 "metadata": {
  "kernelspec": {
   "display_name": "Python 3 (ipykernel)",
   "language": "python",
   "name": "python3"
  },
  "language_info": {
   "codemirror_mode": {
    "name": "ipython",
    "version": 3
   },
   "file_extension": ".py",
   "mimetype": "text/x-python",
   "name": "python",
   "nbconvert_exporter": "python",
   "pygments_lexer": "ipython3",
   "version": "3.11.2"
  }
 },
 "nbformat": 4,
 "nbformat_minor": 5
}
