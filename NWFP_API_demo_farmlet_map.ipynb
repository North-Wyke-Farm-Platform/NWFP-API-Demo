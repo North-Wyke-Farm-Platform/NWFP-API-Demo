{
 "cells": [
  {
   "cell_type": "code",
   "execution_count": null,
   "id": "5ae92ef2-03e7-4ba2-ae7c-56223026807d",
   "metadata": {},
   "outputs": [],
   "source": [
    "pip install python-dotenv"
   ]
  },
  {
   "cell_type": "code",
   "execution_count": null,
   "id": "a880c813-f841-4225-87ec-7f369bd08823",
   "metadata": {},
   "outputs": [],
   "source": [
    "pip install folium"
   ]
  },
  {
   "cell_type": "markdown",
   "id": "7cc38bef-1a1c-42da-9fae-56f0c12ecd03",
   "metadata": {},
   "source": [
    "## Login \n",
    "\n",
    "The login reads user credentials from a .env file then attempts to login in and get an authorised bearer token."
   ]
  },
  {
   "cell_type": "code",
   "execution_count": null,
   "id": "533a90d5-fee5-41bf-8ff8-56d610c568ba",
   "metadata": {},
   "outputs": [],
   "source": [
    "from dotenv import load_dotenv\n",
    "import requests\n",
    "import pprint\n",
    "import os\n",
    "\n",
    "load_dotenv()\n",
    "\n",
    "payload = {\n",
    "    \"email\": os.getenv(\"API_EMAIL\"),\n",
    "    \"password\": os.getenv(\"API_PASSWORD\")\n",
    "}\n",
    "\n",
    "response = requests.post(\"https://api-nwfp.rothamsted.ac.uk/api/auth/v1/login/\", json=payload)\n",
    "\n",
    "token = \"\"\n",
    "headers = None\n",
    "\n",
    "if response.status_code == 200:\n",
    "    response_data = response.json()\n",
    "    print(\"Login successful!\")\n",
    "    print(\"Response data:\")\n",
    "    pprint.pp(response_data)\n",
    "    token = response_data.get(\"access\")\n",
    "    headers = {\"Authorization\": f\"Bearer {token}\"}\n",
    "else:\n",
    "    print(\"Login failed!\")\n",
    "    print(\"Status code:\", response.status_code)\n",
    "    print(\"Response:\", response.text)"
   ]
  },
  {
   "cell_type": "markdown",
   "id": "0dd5a495-9eb1-4867-b9a3-c6513569b88c",
   "metadata": {},
   "source": [
    "## Use the catchments end point to fetch catchment boundaries\n",
    "\n",
    "- print the returned JSON response data to view"
   ]
  },
  {
   "cell_type": "code",
   "execution_count": null,
   "id": "c2d84570-cee0-45b6-8497-fb3c9d3b5e3a",
   "metadata": {},
   "outputs": [],
   "source": [
    "import folium\n",
    "import numpy as np\n",
    "import json\n",
    "from pandas import json_normalize\n",
    "import pandas as pd\n",
    "from collections import defaultdict\n",
    "\n",
    "api_url = \"https://api-nwfp.rothamsted.ac.uk/api/catchments/v1/getCatchments/\"\n",
    "\n",
    "params = {\n",
    "    #\"catchments\": \"catchment 5,met,catchment 6\",\n",
    "}\n",
    "\n",
    "response = requests.get(api_url, headers=headers, params=params, verify=False)\n",
    "\n",
    "if response.status_code == 200:\n",
    "    print(\"API request successful!\")\n",
    "    catchment_data = response.json()\n",
    "    pprint.pp(catchment_data)\n",
    "else:\n",
    "    print(\"Failed to login. Status code:\", response.status_code)\n",
    "    print(\"Response:\", response.text)"
   ]
  },
  {
   "cell_type": "markdown",
   "id": "cb3fe409-d2ce-4824-9f2c-9b20de1d471d",
   "metadata": {},
   "source": [
    "## Render a clickable map\n",
    "\n",
    "- Clicking on a map polygon should display a pop-up with basic information\n",
    "- Polygons should be colour-coded depending on the farmlet (red, green or blue)\n",
    "- Brown farmlet (housed) should be ignored by the map as they do not have associated polygons"
   ]
  },
  {
   "cell_type": "code",
   "execution_count": null,
   "id": "65501d38-72c0-4663-92be-ddd776acdfe6",
   "metadata": {},
   "outputs": [],
   "source": [
    "# Define colors for each unique farmlet name\n",
    "farmlet_colors = defaultdict(lambda: None)\n",
    "color_palette = ['#FF0000', '#964B00', '#0000FF', '#00FF00']  # Add more colors if needed\n",
    "\n",
    "# Assign a color to each farmlet_name\n",
    "for index, catchment in enumerate(catchment_data):\n",
    "    farmlet_name = catchment['farmlet_name']\n",
    "    if farmlet_colors[farmlet_name] is None:\n",
    "        farmlet_colors[farmlet_name] = color_palette[index % len(color_palette)]\n",
    "\n",
    "# Initialize the map centered on the first valid polygon's first point\n",
    "initial_location = None\n",
    "for catchment in catchment_data:\n",
    "    if catchment.get('boundary') and catchment['boundary'][0]:\n",
    "        initial_location = catchment['boundary'][0][0]\n",
    "        break\n",
    "\n",
    "if initial_location is None:\n",
    "    raise ValueError(\"No valid boundary data found to initialize the map.\")\n",
    "\n",
    "m = folium.Map(location=initial_location, zoom_start=15)\n",
    "\n",
    "# Iterate over the catchment data to add polygons to the map\n",
    "for catchment in catchment_data:\n",
    "    farmlet_name = catchment['farmlet_name']\n",
    "    boundary = catchment.get('boundary')\n",
    "    color = farmlet_colors[farmlet_name]\n",
    "\n",
    "    # Skip if boundary data is missing or invalid\n",
    "    if not boundary or not boundary[0]:\n",
    "        print(f\"Skipping catchment {catchment['catchment_id']} due to missing boundary data.\")\n",
    "        continue\n",
    "\n",
    "    # Use the coordinates list directly for the polygon\n",
    "    polygon_coords = boundary[0]\n",
    "\n",
    "    # Format summary information for the popup\n",
    "    popup_content = f\"\"\"\n",
    "    <strong>Catchment ID:</strong> {catchment['catchment_id']}<br>\n",
    "    <strong>Catchment Name:</strong> {catchment['catchment_name']}<br>\n",
    "    <strong>Display Name:</strong> {catchment['displayname']}<br>\n",
    "    <strong>Farmlet Name:</strong> {catchment['farmlet_name']}<br>\n",
    "    <strong>Hydrological Catchment Area:</strong> {catchment['hydrologicalcatchmentarea']} ha<br>\n",
    "    <strong>Fenced Catchment Area:</strong> {catchment['fencedcatchmentarea']} ha\n",
    "    \"\"\"\n",
    "    popup = folium.Popup(popup_content, max_width=300)\n",
    "\n",
    "    # Add the polygon to the map\n",
    "    folium.Polygon(\n",
    "        locations=polygon_coords,  # Directly use the coordinates list for the polygon\n",
    "        color='black',\n",
    "        fill=True,\n",
    "        fill_color=color,\n",
    "        fill_opacity=0.6,\n",
    "        weight=2.5,\n",
    "        popup=popup\n",
    "    ).add_to(m)\n",
    "\n",
    "# Display the map\n",
    "m"
   ]
  },
  {
   "cell_type": "code",
   "execution_count": null,
   "id": "33b8b62c-72f1-4e9d-97e7-f09e7c21955a",
   "metadata": {},
   "outputs": [],
   "source": []
  }
 ],
 "metadata": {
  "kernelspec": {
   "display_name": "Python 3 (ipykernel)",
   "language": "python",
   "name": "python3"
  },
  "language_info": {
   "codemirror_mode": {
    "name": "ipython",
    "version": 3
   },
   "file_extension": ".py",
   "mimetype": "text/x-python",
   "name": "python",
   "nbconvert_exporter": "python",
   "pygments_lexer": "ipython3",
   "version": "3.11.2"
  }
 },
 "nbformat": 4,
 "nbformat_minor": 5
}
