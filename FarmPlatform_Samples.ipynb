{
 "cells": [
  {
   "cell_type": "code",
   "execution_count": null,
   "id": "bcfb643e-6634-4c19-90c7-03c89f4fe726",
   "metadata": {},
   "outputs": [],
   "source": [
    "# Rothamsted Research"
   ]
  },
  {
   "cell_type": "markdown",
   "id": "5af10bfe-0470-4465-a881-8a4be3cbb14c",
   "metadata": {},
   "source": [
    "# Running the notebooks\n",
    "\n",
    "Accessing the Farm Platform\n",
    "\n",
    "This section will guide you through the process of registering and setting up the environment to access the Farm Platform. It will cover the following steps:\n",
    "\n",
    "&#9679; *Creating an Account*\n",
    "\n",
    "&#9679; *Logging In*\n",
    "\n",
    "&#9679; *Running Samples Using Google Colab*\n",
    "\n",
    "<a target=\"_blank\" href=\"https://colab.research.google.com/github/North-Wyke-Farm-Platform/NWFP-API-Demo/blob/main/Catchments%20boundary%20map%20Demo.ipynb\">\n",
    "  <img src=\"https://colab.research.google.com/assets/colab-badge.svg\" alt=\"Open In Colab\"/>\n",
    "</a>"
   ]
  },
  {
   "cell_type": "markdown",
   "id": "486cc476-ddcd-49be-9084-68fcf610c8af",
   "metadata": {},
   "source": [
    "## Registering an account"
   ]
  },
  {
   "cell_type": "markdown",
   "id": "6829055f-3b6b-4728-8204-27e5c22e4c05",
   "metadata": {
    "jp-MarkdownHeadingCollapsed": true
   },
   "source": [
    "The NWFP APIs require you to register an account. You can do this via the registerUser API following these instructions or on our NWFP Swagger page.\n",
    " To register a new user, follow these steps:\n",
    "\n",
    "**API Endpoint:** `api/auth/v1/registerUser/`\n",
    "\n",
    "**Method:** `POST`\n",
    "\n",
    "**Parameters:**\n",
    "- `email`: Your email address\n",
    "- `password`: Your chosen password\n",
    "\n",
    "Upon successful registration, you will receive a confirmation email. Please follow the instructions in the email to confirm your registration."
   ]
  },
  {
   "cell_type": "markdown",
   "id": "07f5250a-aa83-44c9-910a-cfd50180aa22",
   "metadata": {},
   "source": [
    "## Logging in"
   ]
  },
  {
   "cell_type": "markdown",
   "id": "f038a00a-b8de-4966-a0c9-43700f8a7c47",
   "metadata": {},
   "source": [
    " Logging In to NWFP APIs\n",
    "\n",
    "Once registered, you can log in using the following steps:\n",
    "\n",
    "**API Endpoint:** `api/auth/v1/login/`\n",
    "\n",
    "**Method:** `POST`\n",
    "\n",
    "**Parameters:**\n",
    "- `email`: Your registered email address\n",
    "- `password`: Your password\n",
    "\n",
    "Upon successful login, you will receive two tokens: an access token and a refresh token. Use the access token for authentication in subsequent API requests.\n",
    "\n",
    "The `NWFP_API_demo_login.ipynb` demonstrates Python code for logging in and obtaining a bearer token.\n"
   ]
  },
  {
   "cell_type": "markdown",
   "id": "df5c4f57-2f53-4999-ae8b-aa295c6bfc03",
   "metadata": {},
   "source": [
    "## Using a .env file for your login credentials"
   ]
  },
  {
   "cell_type": "markdown",
   "id": "b53ed94d-812b-43d1-9ea7-ec975e875c2c",
   "metadata": {},
   "source": [
    "Once registered you will need to login to the API in order to access the data. We recommend keeping your login credentials in a local .env file with the following properties:\n",
    "\n",
    "**API_EMAIL**\n",
    "\n",
    "**API_PASSWORD**\n",
    "\n",
    "You may need to install the python-dotenv library. Do this with:\n",
    "\n",
    "<div style=\"display: flex; align-items: center; background-color: #f0f0f0; padding: 10px;\">\n",
    "    <code style=\"flex-grow: 1;\">!pip install python-dotenv</code>\n",
    "    <i class=\"fa fa-copy\" onclick=\"navigator.clipboard.writeText('!pip install python-dotenv')\" style=\"cursor: pointer; margin-left: 10px;\"></i>\n",
    "</div>\n",
    "\n",
    "<!-- Load Font Awesome -->\n",
    "<link rel=\"stylesheet\" href=\"https://cdnjs.cloudflare.com/ajax/libs/font-awesome/6.0.0-beta3/css/all.min.css\">\n",
    "<br>\n",
    "\n",
    "To run in  Google Colab click on the Colab badge.\n",
    "\n"
   ]
  },
  {
   "cell_type": "markdown",
   "id": "7103b292-3295-417b-b4d3-6b0ba6bac6fe",
   "metadata": {},
   "source": [
    "## The notebook examples"
   ]
  },
  {
   "cell_type": "markdown",
   "id": "a3ea9d79-ea86-4469-b1e7-ac48f7d5da85",
   "metadata": {},
   "source": [
    "<a target=\"_blank\" href=\"https://colab.research.google.com/github/North-Wyke-Farm-Platform/NWFP-API-Demo/blob/main/NWFP_API_demo_login.ipynb\">\n",
    "  <img src=\"https://colab.research.google.com/assets/colab-badge.svg\" alt=\"Open In Colab\"/>\n",
    "</a><a href=\"https://github.com/North-Wyke-Farm-Platform/NWFP-API-Demo/blob/main/NWFP_API_demo_login.ipynb\">NWFP_API_demo_login demonstrates logging in and obtaining a bearer token</a>\n",
    "<br>\n",
    "\n",
    "<a target=\"_blank\" href=\"https://colab.research.google.com/github/North-Wyke-Farm-Platform/NWFP-API-Demo/blob/main/NWFP_API_demo.ipynb\">\n",
    "  <img src=\"https://colab.research.google.com/assets/colab-badge.svg\" alt=\"Open In Colab\"/>\n",
    "</a><a href=\"https://github.com/North-Wyke-Farm-Platform/NWFP-API-Demo/blob/main/NWFP_API_demo.ipynb\">NWFP_API_demo demonstrates fetching some data filtered by the API paramters</a>\n",
    "<br>\n",
    "<a target=\"_blank\" href=\"https://colab.research.google.com/github/North-Wyke-Farm-Platform/NWFP-API-Demo/blob/main/NWFP_API_error_handling.ipynb\">\n",
    "  <img src=\"https://colab.research.google.com/assets/colab-badge.svg\" alt=\"Open In Colab\"/>\n",
    "</a><a href=\"https://github.com/North-Wyke-Farm-Platform/NWFP-API-Demo/blob/main/NWFP_API_error_handling.ipynb\">NWFP_API_error_handling demonstrates demonstrates error handling</a>\n",
    "<br>\n",
    "\n",
    "<a target=\"_blank\" href=\"https://colab.research.google.com/github/North-Wyke-Farm-Platform/NWFP-API-Demo/blob/main/Catchments boundary map Demo.ipynb\">\n",
    "  <img src=\"https://colab.research.google.com/assets/colab-badge.svg\" alt=\"Open In Colab\"/>\n",
    "</a><a href=\"https://github.com/North-Wyke-Farm-Platform/NWFP-API-Demo/blob/main/Catchments boundary map Demo.ipynb\">NWFP_API_demo_farmlet_map demonstrates using the getCatchments endpoint to retrieve and map catchment boundaries</a>\n",
    "<br>\n",
    "<a target=\"_blank\" href=\"https://colab.research.google.com/github/North-Wyke-Farm-Platform/NWFP-API-Demo/blob/main/ChartsSample.ipynb\">\n",
    "  <img src=\"https://colab.research.google.com/assets/colab-badge.svg\" alt=\"Open In Colab\"/>\n",
    "</a><a href=\"https://github.com/North-Wyke-Farm-Platform/NWFP-API-Demo/blob/main/ChartsSample.ipynb\">ChartsSample.ipynb demonstrates using the requested data to draw soma charts </a>\n",
    "\n",
    "ChartsSample.ipynb"
   ]
  }
 ],
 "metadata": {
  "kernelspec": {
   "display_name": "Python 3 (ipykernel)",
   "language": "python",
   "name": "python3"
  },
  "language_info": {
   "codemirror_mode": {
    "name": "ipython",
    "version": 3
   },
   "file_extension": ".py",
   "mimetype": "text/x-python",
   "name": "python",
   "nbconvert_exporter": "python",
   "pygments_lexer": "ipython3",
   "version": "3.11.2"
  }
 },
 "nbformat": 4,
 "nbformat_minor": 5
}
