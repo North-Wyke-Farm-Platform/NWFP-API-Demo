{
 "cells": [
  {
   "cell_type": "code",
   "execution_count": null,
   "id": "812287bb-152d-4ae1-8236-06167c932d2c",
   "metadata": {},
   "outputs": [],
   "source": [
    "from dotenv import load_dotenv\n",
    "import requests\n",
    "import pprint\n",
    "import os\n",
    "from google.colab import userdata\n",
    "\n",
    "load_dotenv()\n",
    "\n",
    "payload = {\n",
    "  #  \"email\": os.getenv(\"API_EMAIL\"),\n",
    "  #  \"password\": os.getenv(\"API_PASSWORD\")\n",

    "    \"email\": userdata.get(\"API_EMAIL\"),\n",
    "    \"password\": userdata.get(\"API_PASSWORD\")\n",


    "}\n",
    "\n",
    "response = requests.post(\"https://api-nwfp.rothamsted.ac.uk/api/auth/v1/login/\", json=payload)\n",
    "\n",
    "token = \"\"\n",
    "headers = None\n",
    "\n",
    "if response.status_code == 200:\n",
    "    response_data = response.json()\n",
    "    print(\"Login successful!\")\n",
    "    print(\"Response data:\")\n",
    "    pprint.pp(response_data)\n",
    "    token = response_data.get(\"access\")\n",
    "    headers = {\"Authorization\": f\"Bearer {token}\"}\n",
    "else:\n",
    "    print(\"Login failed!\")\n",
    "    print(\"Status code:\", response.status_code)\n",
    "    print(\"Response:\", response.text)"
   ]
  }
 ],
 "metadata": {
  "kernelspec": {
   "display_name": "Python 3 (ipykernel)",
   "language": "python",
   "name": "python3"
  },
  "language_info": {
   "codemirror_mode": {
    "name": "ipython",
    "version": 3
   },
   "file_extension": ".py",
   "mimetype": "text/x-python",
   "name": "python",
   "nbconvert_exporter": "python",
   "pygments_lexer": "ipython3",
   "version": "3.11.2"
  }
 },
 "nbformat": 4,
 "nbformat_minor": 5
}
