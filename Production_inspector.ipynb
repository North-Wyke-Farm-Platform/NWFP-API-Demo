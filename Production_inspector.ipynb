{
 "cells": [
  {
   "cell_type": "code",
   "execution_count": null,
   "id": "7bea0766-8b0f-4388-a6c3-aa70f9b37086",
   "metadata": {},
   "outputs": [],
   "source": [
    "from dotenv import load_dotenv\n",
    "import requests\n",
    "import pprint\n",
    "import os\n",
    "import json\n",
    "\n",
    "load_dotenv()\n",
    "\n",
    "payload = {\n",
    "    \"email\": os.getenv(\"API_EMAIL\"),\n",
    "    \"password\": os.getenv(\"API_PASSWORD\")\n",
    "}\n",
    "\n",
    "response = requests.post(\"https://api-nwfp.rothamsted.ac.uk/api/auth/v1/login/\", json=payload)\n",
    "\n",
    "token = \"\"\n",
    "headers = None\n",
    "\n",
    "if response.status_code == 200:\n",
    "    response_data = response.json()\n",
    "    print(\"Login successful!\")\n",
    "    print(\"Response data:\")\n",
    "    pprint.pp(response_data)\n",
    "    token = response_data.get(\"access\")\n",
    "    headers = {\"Authorization\": f\"Bearer {token}\"}\n",
    "else:\n",
    "    print(\"Login failed!\")\n",
    "    print(\"Status code:\", response.status_code)\n",
    "    print(\"Response:\", response.text)"
   ]
  },
  {
   "cell_type": "code",
   "execution_count": null,
   "id": "ac5bace9-e30c-4c90-b3f3-f03479e5edc5",
   "metadata": {},
   "outputs": [],
   "source": [
    "def count_all_properties(json_data):\n",
    "    count = 0\n",
    "\n",
    "    if isinstance(json_data, dict):\n",
    "        # For each key in the dictionary, increment the count\n",
    "        count += len(json_data)\n",
    "        # Recursively count properties in each value\n",
    "        for value in json_data.values():\n",
    "            count += count_all_properties(value)\n",
    "    \n",
    "    elif isinstance(json_data, list):\n",
    "        # Recursively count properties in each item of the list\n",
    "        for item in json_data:\n",
    "            count += count_all_properties(item)\n",
    "\n",
    "    return count"
   ]
  },
  {
   "cell_type": "code",
   "execution_count": null,
   "id": "830fcd6d-effe-4037-bea3-952bc05718fb",
   "metadata": {},
   "outputs": [],
   "source": [
    "def display_result(protected_response, with_json):\n",
    "    try:\n",
    "        json_data = protected_response.json()\n",
    "\n",
    "        if protected_response.status_code == 200:\n",
    "            print(\"Accessed protected endpoint successfully!\")\n",
    "            print(count_all_properties(json_data))\n",
    "            if with_json:\n",
    "                pprint.pp(json_data)\n",
    "        else:\n",
    "            print(\"Failed to access protected endpoint.\")\n",
    "            print(\"Status code: \", protected_response.status_code)\n",
    "            print(\"Error message: \",json_data[\"error\"]) \n",
    "    except json.JSONDecodeError as e:\n",
    "        print(\"error\")\n",
    "        print(f\"Error: Malformed JSON data. Details: {e.msg} at line {e.lineno} column {e.colno}\")\n",
    "        print(\"Response content:\", protected_response.text)  # Show the actual response for inspection\n",
    "        return 0"
   ]
  },
  {
   "cell_type": "code",
   "execution_count": null,
   "id": "5cca2641-47ec-49ba-b972-9f5cf6c454e6",
   "metadata": {},
   "outputs": [],
   "source": [
    "api_url = \"https://api-nwfp.rothamsted.ac.uk/\""
   ]
  },
  {
   "cell_type": "code",
   "execution_count": 7,
   "id": "6ecb614a-8189-4786-a769-0dcdd091116d",
   "metadata": {},
   "outputs": [
    {
     "name": "stdout",
     "output_type": "stream",
     "text": [
      "Accessed protected endpoint successfully!\n",
      "0\n"
     ]
    }
   ],
   "source": [
    "protected_url = api_url + \"api/animals/v1/getAnimalCount/?dateFrom=2011-01-01&dateTo=2020-12-31\"\n",
    "protected_response = requests.get(protected_url, headers=headers)\n",
    "display_result(protected_response,False)"
   ]
  },
  {
   "cell_type": "code",
   "execution_count": 9,
   "id": "7bb60217-03b0-4dbd-b4e9-196631a6305a",
   "metadata": {},
   "outputs": [
    {
     "name": "stdout",
     "output_type": "stream",
     "text": [
      "Accessed protected endpoint successfully!\n",
      "0\n"
     ]
    }
   ],
   "source": [
    "protected_url = api_url + \"api/animals/v1/getAnimalInputs/\"\n",
    "protected_response = requests.get(protected_url, headers=headers)\n",
    "display_result(protected_response,False)"
   ]
  },
  {
   "cell_type": "code",
   "execution_count": 10,
   "id": "1c014ed9-0eab-4a81-9da8-67eb1d9a9bf4",
   "metadata": {},
   "outputs": [
    {
     "name": "stdout",
     "output_type": "stream",
     "text": [
      "Failed to access protected endpoint.\n",
      "Status code:  400\n",
      "Error message:  Missing required parameters\n"
     ]
    }
   ],
   "source": [
    "protected_url = api_url + \"api/animals/v1/getBasicAnimalData/\"\n",
    "protected_response = requests.get(protected_url, headers=headers)\n",
    "display_result(protected_response,False)"
   ]
  },
  {
   "cell_type": "code",
   "execution_count": 13,
   "id": "be8232e1-b188-4196-b9f2-fb4a76478274",
   "metadata": {},
   "outputs": [
    {
     "name": "stdout",
     "output_type": "stream",
     "text": [
      "Failed to access protected endpoint.\n",
      "Status code:  400\n",
      "Error message:  Missing required parameters\n"
     ]
    }
   ],
   "source": [
    "protected_url = api_url + \"api/animals/v1/getBasicAnimalData/?startGrazingYear=2010&endGrazingYear=2020\"\n",
    "protected_response = requests.get(protected_url, headers=headers)\n",
    "display_result(protected_response,False)"
   ]
  },
  {
   "cell_type": "code",
   "execution_count": 16,
   "id": "059fad48-906d-4903-815c-51ccf58ba16e",
   "metadata": {},
   "outputs": [
    {
     "name": "stdout",
     "output_type": "stream",
     "text": [
      "Failed to access protected endpoint.\n",
      "Status code:  404\n",
      "Error message:  Invalid animalCategoryName\n"
     ]
    }
   ],
   "source": [
    "protected_url = api_url + \"api/animals/v1/getBasicAnimalData/?startGrazingYear=2010&endGrazingYear=2020&animalCategoryName=Red\"\n",
    "protected_response = requests.get(protected_url, headers=headers)\n",
    "display_result(protected_response,False)"
   ]
  },
  {
   "cell_type": "code",
   "execution_count": 20,
   "id": "8c4fc907-3e18-4de6-8e13-37b50c84f446",
   "metadata": {},
   "outputs": [
    {
     "name": "stdout",
     "output_type": "stream",
     "text": [
      "Accessed protected endpoint successfully!\n",
      "65938\n"
     ]
    }
   ],
   "source": [
    "protected_url = api_url + \"api/animals/v1/getBasicAnimalData/?startGrazingYear=2010&endGrazingYear=2020&animalCategoryName=Lamb\"\n",
    "protected_response = requests.get(protected_url, headers=headers)\n",
    "display_result(protected_response,False)"
   ]
  },
  {
   "cell_type": "code",
   "execution_count": 21,
   "id": "c892837e-0d33-4fed-a7c2-4c1032c594aa",
   "metadata": {},
   "outputs": [
    {
     "name": "stdout",
     "output_type": "stream",
     "text": [
      "Failed to access protected endpoint.\n",
      "Status code:  400\n",
      "Error message:  Missing required parameters\n"
     ]
    }
   ],
   "source": [
    "protected_url = api_url + \"api/animals/v1/getGrazingQuality/\"\n",
    "protected_response = requests.get(protected_url, headers=headers)\n",
    "display_result(protected_response,False)"
   ]
  },
  {
   "cell_type": "code",
   "execution_count": 24,
   "id": "dea8315c-d259-4179-8e53-6d686e7bfb53",
   "metadata": {},
   "outputs": [
    {
     "name": "stdout",
     "output_type": "stream",
     "text": [
      "Accessed protected endpoint successfully!\n",
      "11894\n"
     ]
    }
   ],
   "source": [
    "protected_url = api_url + \"api/animals/v1/getGrazingQuality/?dateFrom=2011-6-12&dateTo=2018-10-12\"\n",
    "protected_response = requests.get(protected_url, headers=headers)\n",
    "display_result(protected_response,False)"
   ]
  },
  {
   "cell_type": "code",
   "execution_count": 26,
   "id": "7f1f2571-6275-4299-a84c-607f2698eddf",
   "metadata": {},
   "outputs": [
    {
     "name": "stdout",
     "output_type": "stream",
     "text": [
      "Failed to access protected endpoint.\n",
      "Status code:  400\n",
      "Error message:  Missing required parameters\n"
     ]
    }
   ],
   "source": [
    "protected_url = api_url + \"api/animals/v1/getGreenFeed\"\n",
    "protected_response = requests.get(protected_url, headers=headers)\n",
    "display_result(protected_response,False)"
   ]
  },
  {
   "cell_type": "code",
   "execution_count": 27,
   "id": "7e068d3c-efc2-4f90-b9f1-3241474b60a8",
   "metadata": {},
   "outputs": [
    {
     "name": "stdout",
     "output_type": "stream",
     "text": [
      "Failed to access protected endpoint.\n",
      "Status code:  400\n",
      "Error message:  Missing required parameters\n"
     ]
    }
   ],
   "source": [
    "protected_url = api_url + \"api/animals/v1/getGreenFeed?start_date=2011-6-12&end_date=2024-10-12\"\n",
    "protected_response = requests.get(protected_url, headers=headers)\n",
    "display_result(protected_response,False)"
   ]
  },
  {
   "cell_type": "code",
   "execution_count": 28,
   "id": "19ba255d-f534-406c-9a99-5af679696d2c",
   "metadata": {},
   "outputs": [
    {
     "name": "stdout",
     "output_type": "stream",
     "text": [
      "Accessed protected endpoint successfully!\n",
      "7695608\n"
     ]
    }
   ],
   "source": [
    "protected_url = api_url + \"api/animals/v1/getGreenFeed?dateFrom=2011-6-12&dateTo=2024-10-12\"\n",
    "protected_response = requests.get(protected_url, headers=headers)\n",
    "display_result(protected_response,False)"
   ]
  },
  {
   "cell_type": "code",
   "execution_count": 29,
   "id": "a7dada74-83c8-4384-b366-16105f422113",
   "metadata": {},
   "outputs": [
    {
     "name": "stdout",
     "output_type": "stream",
     "text": [
      "Failed to access protected endpoint.\n",
      "Status code:  400\n",
      "Error message:  Missing required parameter.\n"
     ]
    }
   ],
   "source": [
    "protected_url = api_url + \"api/animals/v1/getLivestockPerformance\"\n",
    "protected_response = requests.get(protected_url, headers=headers)\n",
    "display_result(protected_response,True)"
   ]
  },
  {
   "cell_type": "code",
   "execution_count": 30,
   "id": "8b3648d4-9e26-4b37-9226-1c5385dc5008",
   "metadata": {},
   "outputs": [
    {
     "name": "stdout",
     "output_type": "stream",
     "text": [
      "Accessed protected endpoint successfully!\n",
      "11\n",
      "[{'AnimalId': 100,\n",
      "  'FromDate': '2010-10-29T00:00:00',\n",
      "  'WeightOnFromDate': '321.0 Kg',\n",
      "  'ToDate': '2011-10-18T00:00:00',\n",
      "  'WeightOnToDate': '540.0 Kg',\n",
      "  'WeightDifferenceFromTo': '219.0 Kg',\n",
      "  'DateSold': '2011-10-18T00:00:00',\n",
      "  'FinalWeight': '540.0 Kg',\n",
      "  'WeightDifferenceFromDateSold': '219.0 Kg',\n",
      "  'WeightDifferenceToSold': '0.0 Kg',\n",
      "  'ConditionScore': None}]\n"
     ]
    }
   ],
   "source": [
    "protected_url = api_url + \"api/animals/v1/getLivestockPerformance?animalId=100\"\n",
    "protected_response = requests.get(protected_url, headers=headers)\n",
    "display_result(protected_response,True)"
   ]
  },
  {
   "cell_type": "code",
   "execution_count": 31,
   "id": "7a4da91f-8305-4f32-8c25-ca942cce65be",
   "metadata": {},
   "outputs": [
    {
     "name": "stdout",
     "output_type": "stream",
     "text": [
      "Failed to access protected endpoint.\n",
      "Status code:  400\n",
      "Error message:  Missing required parameters\n"
     ]
    }
   ],
   "source": [
    "protected_url = api_url + \"api/animals/v1/getLivestockPerformanceSales/\"\n",
    "protected_response = requests.get(protected_url, headers=headers)\n",
    "display_result(protected_response,False)"
   ]
  },
  {
   "cell_type": "code",
   "execution_count": 33,
   "id": "b138b887-7582-4709-a893-e854bc6bbabf",
   "metadata": {},
   "outputs": [
    {
     "name": "stdout",
     "output_type": "stream",
     "text": [
      "Accessed protected endpoint successfully!\n",
      "0\n"
     ]
    }
   ],
   "source": [
    "protected_url = api_url + \"api/animals/v1/getLivestockPerformanceSales/?animalId=100&dateSold=2016\"\n",
    "protected_response = requests.get(protected_url, headers=headers)\n",
    "display_result(protected_response,False)"
   ]
  },
  {
   "cell_type": "code",
   "execution_count": 34,
   "id": "753ac2fb-0b0e-49a3-b9a5-bbc98f40a01f",
   "metadata": {},
   "outputs": [
    {
     "name": "stdout",
     "output_type": "stream",
     "text": [
      "error\n",
      "Error: Malformed JSON data. Details: Expecting value at line 2 column 1\n",
      "Response content: \n",
      "<!doctype html>\n",
      "<html lang=\"en\">\n",
      "<head>\n",
      "  <title>Not Found</title>\n",
      "</head>\n",
      "<body>\n",
      "  <h1>Not Found</h1><p>The requested resource was not found on this server.</p>\n",
      "</body>\n",
      "</html>\n",
      "\n"
     ]
    },
    {
     "data": {
      "text/plain": [
       "0"
      ]
     },
     "execution_count": 34,
     "metadata": {},
     "output_type": "execute_result"
    }
   ],
   "source": [
    "protected_url = api_url + \"api/animals/v1/getSurveyMeasurements/\"\n",
    "protected_response = requests.get(protected_url, headers=headers)\n",
    "display_result(protected_response,False)"
   ]
  },
  {
   "cell_type": "code",
   "execution_count": null,
   "id": "18d342dd-b86b-4ccc-8911-67d986ea6d58",
   "metadata": {},
   "outputs": [],
   "source": [
    "protected_url = api_url + \"api/animals/v1/getSurveyMeasurements?from_date=2018-6-12&to_date=2018-10-12\"\n",
    "protected_response = requests.get(protected_url, headers=headers)\n",
    "display_result(protected_response,True)"
   ]
  },
  {
   "cell_type": "code",
   "execution_count": 36,
   "id": "510df6d3-1986-4e18-b5a2-d3ac409bd906",
   "metadata": {},
   "outputs": [
    {
     "name": "stdout",
     "output_type": "stream",
     "text": [
      "Accessed protected endpoint successfully!\n",
      "276\n"
     ]
    }
   ],
   "source": [
    "protected_url = api_url + \"api/catchments/v1/getCatchments/\"\n",
    "protected_response = requests.get(protected_url, headers=headers)\n",
    "display_result(protected_response,False)"
   ]
  },
  {
   "cell_type": "code",
   "execution_count": 37,
   "id": "eaefd7a1-1f35-41f4-9001-6d1fc8efd848",
   "metadata": {},
   "outputs": [
    {
     "name": "stdout",
     "output_type": "stream",
     "text": [
      "Failed to access protected endpoint.\n",
      "Status code:  500\n",
      "Error message:  ('42S22', \"[42S22] [Microsoft][ODBC Driver 17 for SQL Server][SQL Server]Invalid column name 'catchment_name'. (207) (SQLExecDirectW)\")\n"
     ]
    }
   ],
   "source": [
    "protected_url = api_url + \"api/catchments/v1/getMeasurementTypes/\"\n",
    "protected_response = requests.get(protected_url, headers=headers)\n",
    "display_result(protected_response,False)"
   ]
  },
  {
   "cell_type": "code",
   "execution_count": 38,
   "id": "ef3d696f-aaef-4c58-b38b-df7ce2203acc",
   "metadata": {},
   "outputs": [
    {
     "name": "stdout",
     "output_type": "stream",
     "text": [
      "Failed to access protected endpoint.\n",
      "Status code:  400\n",
      "Error message:  catchments are required query parameters.\n"
     ]
    }
   ],
   "source": [
    "protected_url = api_url + \"api/events/v2/getFieldEvents/\"\n",
    "protected_response = requests.get(protected_url, headers=headers)\n",
    "display_result(protected_response,False)"
   ]
  },
  {
   "cell_type": "code",
   "execution_count": 40,
   "id": "abe6519b-e0b4-448e-b607-a0c71df945f5",
   "metadata": {},
   "outputs": [
    {
     "name": "stdout",
     "output_type": "stream",
     "text": [
      "Failed to access protected endpoint.\n",
      "Status code:  400\n",
      "Error message:  catchments are required query parameters.\n"
     ]
    }
   ],
   "source": [
    "protected_url = api_url + \"api/events/v2/getFieldEvents/?catchments=Catchment 1, Catchment 3\"\n",
    "protected_response = requests.get(protected_url, headers=headers)\n",
    "display_result(protected_response,False)"
   ]
  },
  {
   "cell_type": "code",
   "execution_count": 39,
   "id": "92faead7-dba4-44d2-a90f-4c0b504efa26",
   "metadata": {},
   "outputs": [
    {
     "name": "stdout",
     "output_type": "stream",
     "text": [
      "Failed to access protected endpoint.\n",
      "Status code:  400\n",
      "Error message:  Add a 'dateFrom' and we will display a period of 3 months.\n"
     ]
    }
   ],
   "source": [
    "protected_url = api_url + \"api/events/v2/getFieldEvents/?catchmentsIds=1,3\"\n",
    "protected_response = requests.get(protected_url, headers=headers)\n",
    "display_result(protected_response,False)"
   ]
  },
  {
   "cell_type": "code",
   "execution_count": 43,
   "id": "fd54301e-feaa-4f84-b839-9cabef1619f9",
   "metadata": {},
   "outputs": [
    {
     "name": "stdout",
     "output_type": "stream",
     "text": [
      "error\n",
      "Error: Malformed JSON data. Details: Expecting value at line 2 column 1\n",
      "Response content: \n",
      "<!doctype html>\n",
      "<html lang=\"en\">\n",
      "<head>\n",
      "  <title>Server Error (500)</title>\n",
      "</head>\n",
      "<body>\n",
      "  <h1>Server Error (500)</h1><p></p>\n",
      "</body>\n",
      "</html>\n",
      "\n"
     ]
    },
    {
     "data": {
      "text/plain": [
       "0"
      ]
     },
     "execution_count": 43,
     "metadata": {},
     "output_type": "execute_result"
    }
   ],
   "source": [
    "protected_url = api_url + \"api/events/v2/getFieldEvents/?catchmentsIds=1,3&dateFrom=2016-03-01\"\n",
    "protected_response = requests.get(protected_url, headers=headers)\n",
    "display_result(protected_response,False)"
   ]
  },
  {
   "cell_type": "code",
   "execution_count": 45,
   "id": "d8fc74b0-4850-4bf8-b8a4-082c55a8f9c8",
   "metadata": {},
   "outputs": [
    {
     "name": "stdout",
     "output_type": "stream",
     "text": [
      "Accessed protected endpoint successfully!\n",
      "370\n"
     ]
    }
   ],
   "source": [
    "protected_url = api_url + \"api/fields/v1/getFields/\"\n",
    "protected_response = requests.get(protected_url, headers=headers)\n",
    "display_result(protected_response,False)"
   ]
  },
  {
   "cell_type": "code",
   "execution_count": 46,
   "id": "33a005b9-41ef-49b8-9c7a-c05f336b836a",
   "metadata": {},
   "outputs": [
    {
     "name": "stdout",
     "output_type": "stream",
     "text": [
      "Failed to access protected endpoint.\n",
      "Status code:  400\n",
      "Error message:  from_date is a required query parameter.\n"
     ]
    }
   ],
   "source": [
    "protected_url = api_url + \"api/measurements/v2/getMeasurementsByTypeID/\"\n",
    "protected_response = requests.get(protected_url, headers=headers)\n",
    "display_result(protected_response,True)"
   ]
  },
  {
   "cell_type": "code",
   "execution_count": 47,
   "id": "dd4896f9-caf9-40dc-b5bf-744a9a8d7e63",
   "metadata": {},
   "outputs": [
    {
     "name": "stdout",
     "output_type": "stream",
     "text": [
      "Failed to access protected endpoint.\n",
      "Status code:  400\n"
     ]
    },
    {
     "ename": "KeyError",
     "evalue": "'error'",
     "output_type": "error",
     "traceback": [
      "\u001b[1;31m---------------------------------------------------------------------------\u001b[0m",
      "\u001b[1;31mKeyError\u001b[0m                                  Traceback (most recent call last)",
      "Cell \u001b[1;32mIn[47], line 3\u001b[0m\n\u001b[0;32m      1\u001b[0m protected_url \u001b[38;5;241m=\u001b[39m api_url \u001b[38;5;241m+\u001b[39m \u001b[38;5;124m\"\u001b[39m\u001b[38;5;124mapi/measurements/v2/getMeasurementsByTypeID/?from_date=2018-06-01\u001b[39m\u001b[38;5;124m\"\u001b[39m\n\u001b[0;32m      2\u001b[0m protected_response \u001b[38;5;241m=\u001b[39m requests\u001b[38;5;241m.\u001b[39mget(protected_url, headers\u001b[38;5;241m=\u001b[39mheaders)\n\u001b[1;32m----> 3\u001b[0m \u001b[43mdisplay_result\u001b[49m\u001b[43m(\u001b[49m\u001b[43mprotected_response\u001b[49m\u001b[43m,\u001b[49m\u001b[38;5;28;43;01mTrue\u001b[39;49;00m\u001b[43m)\u001b[49m\n",
      "Cell \u001b[1;32mIn[3], line 13\u001b[0m, in \u001b[0;36mdisplay_result\u001b[1;34m(protected_response, with_json)\u001b[0m\n\u001b[0;32m     11\u001b[0m         \u001b[38;5;28mprint\u001b[39m(\u001b[38;5;124m\"\u001b[39m\u001b[38;5;124mFailed to access protected endpoint.\u001b[39m\u001b[38;5;124m\"\u001b[39m)\n\u001b[0;32m     12\u001b[0m         \u001b[38;5;28mprint\u001b[39m(\u001b[38;5;124m\"\u001b[39m\u001b[38;5;124mStatus code: \u001b[39m\u001b[38;5;124m\"\u001b[39m, protected_response\u001b[38;5;241m.\u001b[39mstatus_code)\n\u001b[1;32m---> 13\u001b[0m         \u001b[38;5;28mprint\u001b[39m(\u001b[38;5;124m\"\u001b[39m\u001b[38;5;124mError message: \u001b[39m\u001b[38;5;124m\"\u001b[39m,\u001b[43mjson_data\u001b[49m\u001b[43m[\u001b[49m\u001b[38;5;124;43m\"\u001b[39;49m\u001b[38;5;124;43merror\u001b[39;49m\u001b[38;5;124;43m\"\u001b[39;49m\u001b[43m]\u001b[49m) \n\u001b[0;32m     14\u001b[0m \u001b[38;5;28;01mexcept\u001b[39;00m json\u001b[38;5;241m.\u001b[39mJSONDecodeError \u001b[38;5;28;01mas\u001b[39;00m e:\n\u001b[0;32m     15\u001b[0m     \u001b[38;5;28mprint\u001b[39m(\u001b[38;5;124m\"\u001b[39m\u001b[38;5;124merror\u001b[39m\u001b[38;5;124m\"\u001b[39m)\n",
      "\u001b[1;31mKeyError\u001b[0m: 'error'"
     ]
    }
   ],
   "source": [
    "protected_url = api_url + \"api/measurements/v2/getMeasurementsByTypeID/?from_date=2018-06-01\"\n",
    "protected_response = requests.get(protected_url, headers=headers)\n",
    "display_result(protected_response,True)"
   ]
  },
  {
   "cell_type": "code",
   "execution_count": 48,
   "id": "24b5894d-b32a-4c41-aa05-17c5de61b1bd",
   "metadata": {},
   "outputs": [
    {
     "name": "stdout",
     "output_type": "stream",
     "text": [
      "Failed to access protected endpoint.\n",
      "Status code:  400\n",
      "Error message:  from_date is a required query parameter.\n"
     ]
    }
   ],
   "source": [
    "protected_url = api_url + \"api/measurements/v2/getMeasurementsByTypeID/?fromDate=2018-06-01\"\n",
    "protected_response = requests.get(protected_url, headers=headers)\n",
    "display_result(protected_response,True)"
   ]
  },
  {
   "cell_type": "code",
   "execution_count": null,
   "id": "5aa12928-e531-47ea-81ef-661c36668fe0",
   "metadata": {},
   "outputs": [],
   "source": []
  }
 ],
 "metadata": {
  "kernelspec": {
   "display_name": "Python 3 (ipykernel)",
   "language": "python",
   "name": "python3"
  },
  "language_info": {
   "codemirror_mode": {
    "name": "ipython",
    "version": 3
   },
   "file_extension": ".py",
   "mimetype": "text/x-python",
   "name": "python",
   "nbconvert_exporter": "python",
   "pygments_lexer": "ipython3",
   "version": "3.11.2"
  }
 },
 "nbformat": 4,
 "nbformat_minor": 5
}
