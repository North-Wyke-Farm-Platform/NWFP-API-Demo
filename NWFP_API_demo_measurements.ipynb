{
 "cells": [
  {
   "cell_type": "markdown",
   "id": "c269d445-1fd8-438d-8e9f-07694a27906d",
   "metadata": {},
   "source": [
    "# Install the charting library & tables"
   ]
  },
  {
   "cell_type": "code",
   "execution_count": null,
   "id": "ebf350c6-b61d-4805-85b8-0682abbdcd2f",
   "metadata": {},
   "outputs": [],
   "source": [
    "!pip install plotly\n",
    "!pip install tabulate"
   ]
  },
  {
   "cell_type": "markdown",
   "id": "4c26a0f6-188d-4715-8f6b-db4e30388457",
   "metadata": {},
   "source": [
    "## Login "
   ]
  },
  {
   "cell_type": "code",
   "execution_count": null,
   "id": "bee831a0-0ad9-4fd0-86f5-81078cb5778a",
   "metadata": {},
   "outputs": [],
   "source": [
    "import requests\n",
    "import os\n",
    "from dotenv import load_dotenv\n",
    "from google.colab import userdata\n",
    "\n",
    "# Define the API endpoint and payload\n",
    "base_url = \"https://api-nwfp.rothamsted.ac.uk/api\"\n",
    "endpoint = \"auth/v1/login/\"\n",
    "url = f\"{base_url}/{endpoint}\"\n",
    "\n",
    "load_dotenv()\n",
    "\n",
    "payload = {\n",
    "    #\"email\": os.getenv(\"API_EMAIL\"),\n",
    "    #\"password\": os.getenv(\"API_PASSWORD\")\n",
    "    \"email\": userdata.get(\"API_EMAIL\"),\n",
    "    \"password\": userdata.get(\"API_PASSWORD\")\n",
    "}\n",
    "# Make the POST request\n",
    "response = requests.post(url, data=payload)\n",
    "\n",
    "# Check the response\n",
    "if response.status_code == 200:\n",
    "    response_data = response.json()\n",
    "    print(\"Login successful!\")\n",
    "    token = response_data.get(\"access\")\n",
    "    headers = {\n",
    "        \"Authorization\":f\"Bearer {token}\",\n",
    "        \"Cache-Control\": \"no-cache\"\n",
    "    }\n",
    "    key = token\n",
    "    print(key)\n",
    "else:\n",
    "    print(\"Failed to login. Status code:\", response.status_code)\n",
    "    print(\"Response:\", response.text)"
   ]
  },
  {
   "cell_type": "markdown",
   "id": "5e7ce5c6-c48c-4397-9577-7299c90e86a1",
   "metadata": {},
   "source": [
    "## Getting help about measurements\n",
    "\n",
    "The NWFP APIs can provide help information, for example if you want to know the available measurements we can query using the *Help* parameter. This will tell us what the avalable measurement data categories are."
   ]
  },
  {
   "cell_type": "code",
   "execution_count": null,
   "id": "bee3a5a2-8c95-4120-8fab-2b85cc4e1bda",
   "metadata": {},
   "outputs": [],
   "source": [
    "import requests\n",
    "import pandas as pd\n",
    "from tabulate import tabulate\n",
    "\n",
    "# Define the API endpoint and parameters\n",
    "endpoint = \"measurements/v2/MeasurementsByTypeID/\"\n",
    "api_url = f\"{base_url}/{endpoint}\"\n",
    "params = {\n",
    "    \"Help\": \"measurements\"\n",
    "}\n",
    "# Make the GET request\n",
    "response = requests.get(api_url, headers=headers, params=params)\n",
    "\n",
    "# Check the response\n",
    "if response.status_code == 200:    \n",
    "    data = response.json()\n",
    "    df = pd.DataFrame(data)\n",
    "    # Reformat the output in a nice table\n",
    "    print(tabulate(df, headers='keys', tablefmt='grid', showindex=False))\n",
    "else:\n",
    "    print(\"Failed. Status code:\", response.status_code)\n",
    "    print(\"Response:\", response.text)"
   ]
  },
  {
   "cell_type": "markdown",
   "id": "886ef8a4-58bb-4df7-b76e-f5c6664d15d7",
   "metadata": {},
   "source": [
    "We can do the same for other parameters, for example, fields"
   ]
  },
  {
   "cell_type": "code",
   "execution_count": null,
   "id": "35942368-eb8b-4765-9715-bba239163745",
   "metadata": {},
   "outputs": [],
   "source": [
    "import requests\n",
    "import pandas as pd\n",
    "from tabulate import tabulate\n",
    "\n",
    "# Define the API endpoint and parameters\n",
    "endpoint = \"measurements/v2/MeasurementsByTypeID/\"\n",
    "api_url = f\"{base_url}/{endpoint}\"\n",
    "params = {\n",
    "    \"Help\": \"field\"\n",
    "}\n",
    "# Make the GET request\n",
    "response = requests.get(api_url, headers=headers, params=params)\n",
    "\n",
    "# Check the response\n",
    "if response.status_code == 200:    \n",
    "    data = response.json()\n",
    "    df = pd.DataFrame(data)\n",
    "    # Reformat the output in a nice table\n",
    "    print(tabulate(df, headers='keys', tablefmt='grid', showindex=False))\n",
    "else:\n",
    "    print(\"Failed. Status code:\", response.status_code)\n",
    "    print(\"Response:\", response.text)"
   ]
  },
  {
   "cell_type": "markdown",
   "id": "ff6c936a-b7e8-45f6-8d27-597de902e3fc",
   "metadata": {},
   "source": [
    "## Querying data for specific catchments\n",
    "In this example, we will query specific measurements for two catchment IDs within a specified date range, we will then visualise the *Flow* data."
   ]
  },
  {
   "cell_type": "code",
   "execution_count": null,
   "id": "960dffd7-61b4-456f-8c87-c8e4a0243cdd",
   "metadata": {},
   "outputs": [],
   "source": [
    "\n",
    "import json\n",
    "import pandas as pd\n",
    "import plotly.graph_objects as go\n",
    "import plotly.express as px\n",
    "\n",
    "endpoint = \"measurements/v2/MeasurementsByTypeID/\"\n",
    "api_url = f\"{base_url}/{endpoint}\"\n",
    "params = {\n",
    "    \"catchmentids\": \"5,6\",\n",
    "    \"measurements\": \"2,19,20\",\n",
    "    \"datefrom\": \"2022-12-11\",\n",
    "    \"dateto\": \"2023-12-13\",\n",
    "}\n",
    "response = requests.get(api_url, headers=headers, params=params)\n",
    "\n",
    "if response.status_code == 200:\n",
    "    data = response.json()\n",
    "    df = pd.DataFrame(data)\n",
    "    \n",
    "    # Filter data for Flow in Catchment 5 and Catchment 6\n",
    "    measurement_type = \"Flow\"\n",
    "    #measurement_type = \"Soil Moisture @ 10cm Depth\" \n",
    "    df_catchment5 = df.loc[(df['catchmentid'] == 5) & (df['meastypedisplayname'] == measurement_type)].copy()\n",
    "    df_catchment6 = df.loc[(df['catchmentid'] == 6) & (df['meastypedisplayname'] == measurement_type)].copy()\n",
    "    \n",
    "    # Convert datetime strings to datetime objects\n",
    "    df_catchment5['datetime'] = pd.to_datetime( df_catchment5['datetime'])\n",
    "    df_catchment6['datetime'] = pd.to_datetime( df_catchment6['datetime'])\n",
    "    \n",
    "    fig = go.Figure()\n",
    "\n",
    "    fig.add_trace(go.Scatter(x=df_catchment5['datetime'], y=df_catchment5['value'],\n",
    "                        mode='lines', name='Catchment 5', line=dict(color='blue')))\n",
    "    fig.add_trace(go.Scatter(x=df_catchment6['datetime'], y=df_catchment6['value'],\n",
    "                         mode='lines', name='Catchment 6', line=dict(color='red')))\n",
    "\n",
    "    fig.update_layout(\n",
    "            title=f'{measurement_type} Data for Catchments',\n",
    "            xaxis_title='datetime',\n",
    "            yaxis_title='value'\n",
    "        )\n",
    "\n",
    "    # Show the chart\n",
    "    fig.show()\n",
    "else:\n",
    "    print(\"Failed. Status code:\", response.status_code)\n",
    "    print(\"Response:\", response.text)\n"
   ]
  },
  {
   "cell_type": "markdown",
   "id": "2bd19acb-82b6-4dbd-954a-f787e8e8e08b",
   "metadata": {},
   "source": [
    "In this example we visualise the soil temperature data"
   ]
  },
  {
   "cell_type": "code",
   "execution_count": null,
   "id": "8586d26a-3afb-46c9-a94e-28ea9c4b58dc",
   "metadata": {},
   "outputs": [],
   "source": [
    "# Filter data for Flow in Catchment 5 and Catchment 6\n",
    "measurement_type = \"Soil Temperature @ 15cm Depth\"   # \"Soil Moisture @ 15cm Depth\"  or Flow\n",
    "df_catchment5 = df.loc[(df['catchmentid'] == 5) & (df['meastypedisplayname'] == measurement_type)].copy()\n",
    "df_catchment6 = df.loc[(df['catchmentid'] == 6) & (df['meastypedisplayname'] == measurement_type)].copy()\n",
    "    \n",
    "# Convert datetime strings to datetime objects\n",
    "df_catchment5['datetime'] = pd.to_datetime( df_catchment5['datetime'])\n",
    "df_catchment6['datetime'] = pd.to_datetime( df_catchment6['datetime'])\n",
    "    \n",
    "fig = go.Figure()\n",
    "fig.add_trace(go.Scatter(x=df_catchment5['datetime'], y=df_catchment5['value'],\n",
    "                mode='lines', name='Catchment 5', line=dict(color='blue')))\n",
    "fig.add_trace(go.Scatter(x=df_catchment6['datetime'], y=df_catchment6['value'],\n",
    "                 mode='lines', name='Catchment 6', line=dict(color='red')))\n",
    "\n",
    "fig.update_layout(\n",
    "    title=f'{measurement_type} Data for Catchments',\n",
    "    xaxis_title='datetime',\n",
    "    yaxis_title='value'\n",
    ")\n",
    "\n",
    "# Show the chart\n",
    "fig.show()"
   ]
  }
 ],
 "metadata": {
  "kernelspec": {
   "display_name": "Python 3 (ipykernel)",
   "language": "python",
   "name": "python3"
  },
  "language_info": {
   "codemirror_mode": {
    "name": "ipython",
    "version": 3
   },
   "file_extension": ".py",
   "mimetype": "text/x-python",
   "name": "python",
   "nbconvert_exporter": "python",
   "pygments_lexer": "ipython3",
   "version": "3.11.2"
  }
 },
 "nbformat": 4,
 "nbformat_minor": 5
}
